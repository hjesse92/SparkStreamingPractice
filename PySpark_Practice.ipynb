{
  "nbformat": 4,
  "nbformat_minor": 5,
  "metadata": {
    "kernelspec": {
      "display_name": "Python 3",
      "language": "python",
      "name": "python3"
    },
    "language_info": {
      "codemirror_mode": {
        "name": "ipython",
        "version": 3
      },
      "file_extension": ".py",
      "mimetype": "text/x-python",
      "name": "python",
      "nbconvert_exporter": "python",
      "pygments_lexer": "ipython3",
      "version": "3.8.5"
    },
    "colab": {
      "name": "PySpark Practice.ipynb",
      "provenance": [],
      "include_colab_link": true
    }
  },
  "cells": [
    {
      "cell_type": "markdown",
      "metadata": {
        "id": "view-in-github",
        "colab_type": "text"
      },
      "source": [
        "<a href=\"https://colab.research.google.com/github/hjesse92/SparkStreamingPractice/blob/main/PySpark_Practice.ipynb\" target=\"_parent\"><img src=\"https://colab.research.google.com/assets/colab-badge.svg\" alt=\"Open In Colab\"/></a>"
      ]
    },
    {
      "cell_type": "markdown",
      "metadata": {
        "id": "hairy-cooper"
      },
      "source": [
        "# Simulate Streaming with Spark\n",
        "\n",
        "Simulating with Kaggle's PaySim dataset: https://www.kaggle.com/ealaxi/paysim1"
      ],
      "id": "hairy-cooper"
    },
    {
      "cell_type": "code",
      "metadata": {
        "id": "9cal1VnA55x9"
      },
      "source": [
        "!pip install pyspark"
      ],
      "id": "9cal1VnA55x9",
      "execution_count": null,
      "outputs": []
    },
    {
      "cell_type": "code",
      "metadata": {
        "colab": {
          "base_uri": "https://localhost:8080/"
        },
        "id": "8s6YlYX45AZL",
        "outputId": "7c336b08-f5da-47e2-ea7f-855bf04cf0fb"
      },
      "source": [
        "from google.colab import drive\n",
        "drive.mount('/content/drive')"
      ],
      "id": "8s6YlYX45AZL",
      "execution_count": 1,
      "outputs": [
        {
          "output_type": "stream",
          "text": [
            "Mounted at /content/drive\n"
          ],
          "name": "stdout"
        }
      ]
    },
    {
      "cell_type": "code",
      "metadata": {
        "id": "cognitive-bridal"
      },
      "source": [
        "from pyspark.sql import SparkSession\n",
        "import pyspark.sql.functions as F\n",
        "import pyspark.sql.types as T\n",
        "\n",
        "spark = SparkSession.builder.getOrCreate()"
      ],
      "id": "cognitive-bridal",
      "execution_count": 5,
      "outputs": []
    },
    {
      "cell_type": "code",
      "metadata": {
        "id": "extra-consultation"
      },
      "source": [
        "df = spark.read.csv('/content/drive/MyDrive/PySpark Practice/paysim.csv', header=True, inferSchema=True)"
      ],
      "id": "extra-consultation",
      "execution_count": 11,
      "outputs": []
    },
    {
      "cell_type": "code",
      "metadata": {
        "colab": {
          "base_uri": "https://localhost:8080/"
        },
        "id": "younger-period",
        "outputId": "9a2068ae-ffc1-4225-d91b-76e3574dbf46"
      },
      "source": [
        "df.columns"
      ],
      "id": "younger-period",
      "execution_count": 12,
      "outputs": [
        {
          "output_type": "execute_result",
          "data": {
            "text/plain": [
              "['step',\n",
              " 'type',\n",
              " 'amount',\n",
              " 'nameOrig',\n",
              " 'oldbalanceOrg',\n",
              " 'newbalanceOrig',\n",
              " 'nameDest',\n",
              " 'oldbalanceDest',\n",
              " 'newbalanceDest',\n",
              " 'isFraud',\n",
              " 'isFlaggedFraud']"
            ]
          },
          "metadata": {
            "tags": []
          },
          "execution_count": 12
        }
      ]
    },
    {
      "cell_type": "code",
      "metadata": {
        "id": "decent-machinery"
      },
      "source": [
        "df = df.drop('isFraud', 'isFlaggedFraud')"
      ],
      "id": "decent-machinery",
      "execution_count": 13,
      "outputs": []
    },
    {
      "cell_type": "code",
      "metadata": {
        "colab": {
          "base_uri": "https://localhost:8080/"
        },
        "id": "ceramic-retention",
        "outputId": "f63162f1-676a-4dc8-8ebc-89aa78a6f3ab"
      },
      "source": [
        "df.show(2)"
      ],
      "id": "ceramic-retention",
      "execution_count": 14,
      "outputs": [
        {
          "output_type": "stream",
          "text": [
            "+----+-------+-------+-----------+-------------+--------------+-----------+--------------+--------------+\n",
            "|step|   type| amount|   nameOrig|oldbalanceOrg|newbalanceOrig|   nameDest|oldbalanceDest|newbalanceDest|\n",
            "+----+-------+-------+-----------+-------------+--------------+-----------+--------------+--------------+\n",
            "|   1|PAYMENT|9839.64|C1231006815|     170136.0|     160296.36|M1979787155|           0.0|           0.0|\n",
            "|   1|PAYMENT|1864.28|C1666544295|      21249.0|      19384.72|M2044282225|           0.0|           0.0|\n",
            "+----+-------+-------+-----------+-------------+--------------+-----------+--------------+--------------+\n",
            "only showing top 2 rows\n",
            "\n"
          ],
          "name": "stdout"
        }
      ]
    },
    {
      "cell_type": "code",
      "metadata": {
        "scrolled": true,
        "colab": {
          "base_uri": "https://localhost:8080/"
        },
        "id": "computational-potato",
        "outputId": "dc398dbc-9c0b-4b20-d51e-53eeb34fdae8"
      },
      "source": [
        "df.groupBy('step').count().show(3)"
      ],
      "id": "computational-potato",
      "execution_count": 15,
      "outputs": [
        {
          "output_type": "stream",
          "text": [
            "+----+-----+\n",
            "|step|count|\n",
            "+----+-----+\n",
            "| 148|   12|\n",
            "|  31|   12|\n",
            "|  85|   14|\n",
            "+----+-----+\n",
            "only showing top 3 rows\n",
            "\n"
          ],
          "name": "stdout"
        }
      ]
    },
    {
      "cell_type": "markdown",
      "metadata": {
        "id": "herbal-colombia"
      },
      "source": [
        "Each step is an hour, a unit of transaction"
      ],
      "id": "herbal-colombia"
    },
    {
      "cell_type": "code",
      "metadata": {
        "colab": {
          "base_uri": "https://localhost:8080/"
        },
        "id": "driven-dayton",
        "outputId": "73619d96-52ba-4882-f9fb-f15a94201b5a"
      },
      "source": [
        "%%time\n",
        "all_steps = df.select('step').distinct().collect()\n",
        "5\n",
        "for step in all_steps:\n",
        "    _df = df.where(f'step = {step[0]}')\n",
        "    _df.coalesce(1).write.mode('append').option('header','true').csv('/content/drive/MyDrive/PySpark Practice/data')"
      ],
      "id": "driven-dayton",
      "execution_count": 16,
      "outputs": [
        {
          "output_type": "stream",
          "text": [
            "CPU times: user 4.42 s, sys: 434 ms, total: 4.85 s\n",
            "Wall time: 16min 17s\n"
          ],
          "name": "stdout"
        }
      ]
    },
    {
      "cell_type": "code",
      "metadata": {
        "id": "confused-passage"
      },
      "source": [
        "part = spark.read.csv(\n",
        "    \"/content/drive/MyDrive/PySpark Practice/data/part-00000-002c27df-41b7-4e63-9bf7-c9d155a8e329-c000.csv\",\n",
        "    header=True,\n",
        "    inferSchema=True\n",
        "\n",
        ")"
      ],
      "id": "confused-passage",
      "execution_count": 21,
      "outputs": []
    },
    {
      "cell_type": "code",
      "metadata": {
        "colab": {
          "base_uri": "https://localhost:8080/"
        },
        "id": "VHqXwAdhABBl",
        "outputId": "c81272b5-634e-4e00-e275-870415956448"
      },
      "source": [
        "part.show(5)"
      ],
      "id": "VHqXwAdhABBl",
      "execution_count": 23,
      "outputs": [
        {
          "output_type": "stream",
          "text": [
            "+----+--------+---------+-----------+-------------+--------------+-----------+--------------+--------------+\n",
            "|step|    type|   amount|   nameOrig|oldbalanceOrg|newbalanceOrig|   nameDest|oldbalanceDest|newbalanceDest|\n",
            "+----+--------+---------+-----------+-------------+--------------+-----------+--------------+--------------+\n",
            "|  23| PAYMENT| 27736.41| C965406344|      10258.0|           0.0| M433292571|           0.0|           0.0|\n",
            "|  23| PAYMENT|   7740.2|C1990257786|      94936.0|       87195.8|M1839804600|           0.0|           0.0|\n",
            "|  23|TRANSFER|310381.44|  C62483755|      11032.0|           0.0| C851565313|      41497.72|     351879.16|\n",
            "|  23| PAYMENT|  2321.65| C113761050|      11277.0|       8955.35|M2012554372|           0.0|           0.0|\n",
            "|  23| PAYMENT|  1886.45|C1409148466|      20286.0|      18399.55| M459610451|           0.0|           0.0|\n",
            "+----+--------+---------+-----------+-------------+--------------+-----------+--------------+--------------+\n",
            "only showing top 5 rows\n",
            "\n"
          ],
          "name": "stdout"
        }
      ]
    },
    {
      "cell_type": "code",
      "metadata": {
        "colab": {
          "base_uri": "https://localhost:8080/"
        },
        "id": "cF0ibJ8EABpD",
        "outputId": "2dd3ad27-9660-443f-ee7f-f3da6108641a"
      },
      "source": [
        "part.groupBy('step').count().show()"
      ],
      "id": "cF0ibJ8EABpD",
      "execution_count": 24,
      "outputs": [
        {
          "output_type": "stream",
          "text": [
            "+----+-----+\n",
            "|step|count|\n",
            "+----+-----+\n",
            "|  23| 6144|\n",
            "+----+-----+\n",
            "\n"
          ],
          "name": "stdout"
        }
      ]
    },
    {
      "cell_type": "markdown",
      "metadata": {
        "id": "oOtcESh_ATur"
      },
      "source": [
        "Time to stream the data"
      ],
      "id": "oOtcESh_ATur"
    },
    {
      "cell_type": "code",
      "metadata": {
        "id": "JmECtRxxAOby"
      },
      "source": [
        "dataSchema = part.schema"
      ],
      "id": "JmECtRxxAOby",
      "execution_count": 25,
      "outputs": []
    },
    {
      "cell_type": "code",
      "metadata": {
        "colab": {
          "base_uri": "https://localhost:8080/"
        },
        "id": "alRVPMj_AW60",
        "outputId": "f96b6003-d640-4b2c-cbaa-57691fb91d82"
      },
      "source": [
        "dataSchema"
      ],
      "id": "alRVPMj_AW60",
      "execution_count": 26,
      "outputs": [
        {
          "output_type": "execute_result",
          "data": {
            "text/plain": [
              "StructType(List(StructField(step,IntegerType,true),StructField(type,StringType,true),StructField(amount,DoubleType,true),StructField(nameOrig,StringType,true),StructField(oldbalanceOrg,DoubleType,true),StructField(newbalanceOrig,DoubleType,true),StructField(nameDest,StringType,true),StructField(oldbalanceDest,DoubleType,true),StructField(newbalanceDest,DoubleType,true)))"
            ]
          },
          "metadata": {
            "tags": []
          },
          "execution_count": 26
        }
      ]
    },
    {
      "cell_type": "code",
      "metadata": {
        "id": "_QRhDwZrAXyk"
      },
      "source": [
        "streaming = (\n",
        "    spark.readStream.schema(dataSchema)\n",
        "    .option(\"maxFilesPerTrigger\",1)\n",
        "    .csv(\"/content/drive/MyDrive/PySpark Practice/data/\")\n",
        ")"
      ],
      "id": "_QRhDwZrAXyk",
      "execution_count": 28,
      "outputs": []
    },
    {
      "cell_type": "code",
      "metadata": {
        "id": "N8CNMjDmApLt"
      },
      "source": [
        "dest_count = streaming.groupBy(\"nameDest\").count().orderBy(F.desc(\"count\"))"
      ],
      "id": "N8CNMjDmApLt",
      "execution_count": 35,
      "outputs": []
    },
    {
      "cell_type": "code",
      "metadata": {
        "id": "iz0t1dU4AtkA"
      },
      "source": [
        "activityQuery = (\n",
        "    dest_count.writeStream.queryName(\"dest_counts\")\n",
        "    .format(\"memory\")\n",
        "    .outputMode(\"complete\")\n",
        "    .start()\n",
        ")"
      ],
      "id": "iz0t1dU4AtkA",
      "execution_count": 41,
      "outputs": []
    },
    {
      "cell_type": "code",
      "metadata": {
        "colab": {
          "base_uri": "https://localhost:8080/"
        },
        "id": "ZfN94ui5BgB6",
        "outputId": "bb8c05ec-5f80-4004-e3b8-4bf0447297ea"
      },
      "source": [
        "import time\n",
        "\n",
        "for x in range(5):\n",
        "  _df = spark.sql(\n",
        "      \"SELECT * FROM dest_counts WHERE nameDest != 'nameDest' and count >= 2\"\n",
        "  )\n",
        "  if _df.count() > 0:\n",
        "    _df.show(10)\n",
        "  time.sleep(0.5)"
      ],
      "id": "ZfN94ui5BgB6",
      "execution_count": 43,
      "outputs": [
        {
          "output_type": "stream",
          "text": [
            "+-----------+-----+\n",
            "|   nameDest|count|\n",
            "+-----------+-----+\n",
            "|C1470685392|    6|\n",
            "| C947126193|    5|\n",
            "|  C61797727|    5|\n",
            "|C1152780087|    5|\n",
            "| C225852166|    5|\n",
            "|C2049145129|    5|\n",
            "|C1104243021|    5|\n",
            "|C1454189174|    5|\n",
            "| C167875008|    5|\n",
            "| C796568622|    5|\n",
            "+-----------+-----+\n",
            "only showing top 10 rows\n",
            "\n",
            "+-----------+-----+\n",
            "|   nameDest|count|\n",
            "+-----------+-----+\n",
            "| C680344850|    7|\n",
            "|C2049145129|    7|\n",
            "|C1797724563|    7|\n",
            "| C240670965|    7|\n",
            "|C1368674093|    7|\n",
            "|C1386732390|    7|\n",
            "| C947126193|    6|\n",
            "|C1944598988|    6|\n",
            "|C1152780087|    6|\n",
            "| C581015888|    6|\n",
            "+-----------+-----+\n",
            "only showing top 10 rows\n",
            "\n",
            "+-----------+-----+\n",
            "|   nameDest|count|\n",
            "+-----------+-----+\n",
            "| C680344850|    7|\n",
            "|C2049145129|    7|\n",
            "|C1797724563|    7|\n",
            "| C240670965|    7|\n",
            "|C1368674093|    7|\n",
            "|C1386732390|    7|\n",
            "| C947126193|    6|\n",
            "|C1944598988|    6|\n",
            "|C1152780087|    6|\n",
            "| C581015888|    6|\n",
            "+-----------+-----+\n",
            "only showing top 10 rows\n",
            "\n",
            "+-----------+-----+\n",
            "|   nameDest|count|\n",
            "+-----------+-----+\n",
            "|C1386732390|    9|\n",
            "| C680344850|    8|\n",
            "|C2049145129|    8|\n",
            "|C1797724563|    8|\n",
            "| C240670965|    7|\n",
            "| C681300258|    7|\n",
            "|C1735811512|    7|\n",
            "|C1368674093|    7|\n",
            "| C362209924|    7|\n",
            "| C680034596|    7|\n",
            "+-----------+-----+\n",
            "only showing top 10 rows\n",
            "\n",
            "+-----------+-----+\n",
            "|   nameDest|count|\n",
            "+-----------+-----+\n",
            "|C1386732390|    9|\n",
            "| C680344850|    8|\n",
            "|C2049145129|    8|\n",
            "|C1797724563|    8|\n",
            "| C240670965|    7|\n",
            "| C681300258|    7|\n",
            "|C1735811512|    7|\n",
            "|C1368674093|    7|\n",
            "| C362209924|    7|\n",
            "| C680034596|    7|\n",
            "+-----------+-----+\n",
            "only showing top 10 rows\n",
            "\n"
          ],
          "name": "stdout"
        }
      ]
    },
    {
      "cell_type": "code",
      "metadata": {
        "colab": {
          "base_uri": "https://localhost:8080/"
        },
        "id": "7gDmwTrRBhIq",
        "outputId": "dd9d4bc7-82a1-4fa7-931f-439103ee69eb"
      },
      "source": [
        "spark.streams.active[0].isActive"
      ],
      "id": "7gDmwTrRBhIq",
      "execution_count": 44,
      "outputs": [
        {
          "output_type": "execute_result",
          "data": {
            "text/plain": [
              "True"
            ]
          },
          "metadata": {
            "tags": []
          },
          "execution_count": 44
        }
      ]
    },
    {
      "cell_type": "code",
      "metadata": {
        "colab": {
          "base_uri": "https://localhost:8080/"
        },
        "id": "x2pT8l7rCbrj",
        "outputId": "07976cc4-84ff-4ecb-e840-43c05abe126f"
      },
      "source": [
        "activityQuery.status"
      ],
      "id": "x2pT8l7rCbrj",
      "execution_count": 45,
      "outputs": [
        {
          "output_type": "execute_result",
          "data": {
            "text/plain": [
              "{'isDataAvailable': True,\n",
              " 'isTriggerActive': True,\n",
              " 'message': 'Processing new data'}"
            ]
          },
          "metadata": {
            "tags": []
          },
          "execution_count": 45
        }
      ]
    },
    {
      "cell_type": "code",
      "metadata": {
        "id": "F6wJn1tZCdF8"
      },
      "source": [
        "activityQuery.stop()"
      ],
      "id": "F6wJn1tZCdF8",
      "execution_count": null,
      "outputs": []
    }
  ]
}